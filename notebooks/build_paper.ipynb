{
 "cells": [
  {
   "cell_type": "code",
   "execution_count": 15,
   "metadata": {},
   "outputs": [
    {
     "name": "stdout",
     "output_type": "stream",
     "text": [
      "\u001b[32m\u001b[1mRunning Jupyter-Book v0.8.3\u001b[0m\n",
      "\u001b[34m\u001b[1mSource Folder: \u001b[0m/Users/jadean/source/github/SASGF-ipynb-test/notebooks\n",
      "\u001b[34m\u001b[1mConfig Path: \u001b[0m/Users/jadean/source/github/SASGF-ipynb-test/notebooks/_config.yml\n",
      "\u001b[34m\u001b[1mOutput Path: \u001b[0m/Users/jadean/source/github/SASGF-ipynb-test/notebooks/_build/_page/4419-2020/html\n",
      "\u001b[01mRunning Sphinx v3.1.2\u001b[39;49;00m\n",
      "\u001b[01mloading pickled environment... \u001b[39;49;00mdone\n",
      "\u001b[01mmyst v0.12.10:\u001b[39;49;00m MdParserConfig(renderer='sphinx', commonmark_only=False, dmath_enable=True, dmath_allow_labels=True, dmath_allow_space=True, dmath_allow_digits=True, amsmath_enable=False, deflist_enable=False, update_mathjax=True, admonition_enable=False, figure_enable=False, disable_syntax=[], html_img_enable=False, url_schemes=['mailto', 'http', 'https'], heading_anchors=None)\n",
      "\u001b[01mbuilding [mo]: \u001b[39;49;00mtargets for 0 po files that are out of date\n",
      "\u001b[01mbuilding [singlehtml]: \u001b[39;49;00mall documents\n",
      "\u001b[01mupdating environment: \u001b[39;49;00m0 added, 1 changed, 0 removed\n",
      "Executing: 4419-2020 in: /Users/jadean/source/github/SASGF-ipynb-test/notebooks                                 \n",
      "\n",
      "\u001b[91m/Users/jadean/source/github/SASGF-ipynb-test/notebooks/4419-2020.ipynb:70014: WARNING: Non-consecutive header level increase; 1 to 3\u001b[39;49;00m\n",
      "\u001b[91m/Users/jadean/source/github/SASGF-ipynb-test/notebooks/4419-2020.ipynb:70062: WARNING: Non-consecutive header level increase; 1 to 3\u001b[39;49;00m\n",
      "\u001b[91m/Users/jadean/source/github/SASGF-ipynb-test/notebooks/4419-2020.ipynb:70089: WARNING: Non-consecutive header level increase; 1 to 3\u001b[39;49;00m\n",
      "\u001b[91m/Users/jadean/source/github/SASGF-ipynb-test/notebooks/4419-2020.ipynb:70120: WARNING: Non-consecutive header level increase; 1 to 3\u001b[39;49;00m\n",
      "\u001b[01mlooking for now-outdated files... \u001b[39;49;00mnone found\n",
      "\u001b[01mpickling environment... \u001b[39;49;00mdone\n",
      "\u001b[01mchecking consistency... \u001b[39;49;00mdone\n",
      "\u001b[01mpreparing documents... \u001b[39;49;00mdone\n",
      "\u001b[01massembling single document... \u001b[39;49;00m\u001b[91m/Users/jadean/source/github/SASGF-ipynb-test/notebooks/4419-2020.ipynb:100002: WARNING: undefined label: example-table\u001b[39;49;00m\n",
      "done\n",
      "\u001b[01mwriting... \u001b[39;49;00mdone\n",
      "\u001b[01mwriting additional files... \u001b[39;49;00mdone\n",
      "\u001b[01mcopying images... \u001b[39;49;00m[100%] \u001b[33m../images/email.banner-sasgf2020.png\u001b[39;49;00m                   \n",
      "\u001b[01mcopying static files... ... \u001b[39;49;00mdone\n",
      "\u001b[01mcopying extra files... \u001b[39;49;00mdone\n",
      "\u001b[01mdumping object inventory... \u001b[39;49;00mdone\n",
      "\u001b[01mbuild finished with problems, 5 warnings.\u001b[39;49;00m\n",
      "\n",
      "\u001b[91m===============================================================================\u001b[0m\n",
      "\n",
      "Building your page, returns a non-zero exit code (1). Look above for the cause.\n",
      "\n",
      "\u001b[91m===============================================================================\u001b[0m\n",
      "\n"
     ]
    }
   ],
   "source": [
    "! jupyter-book build -W -n --keep-going 4419-2020.ipynb \\\n",
    "    --builder pdfhtml"
   ]
  },
  {
   "cell_type": "markdown",
   "metadata": {},
   "source": [
    "# Clean the files"
   ]
  },
  {
   "cell_type": "code",
   "execution_count": 9,
   "metadata": {},
   "outputs": [
    {
     "name": "stdout",
     "output_type": "stream",
     "text": [
      "\n",
      "\u001b[92m===============================================================================\u001b[0m\n",
      "\n",
      "Your _build directory has been removed\n",
      "\n",
      "\u001b[92m===============================================================================\u001b[0m\n",
      "\n"
     ]
    }
   ],
   "source": [
    "! jupyter-book clean . --all"
   ]
  },
  {
   "cell_type": "code",
   "execution_count": null,
   "metadata": {},
   "outputs": [],
   "source": []
  }
 ],
 "metadata": {
  "kernelspec": {
   "display_name": "Python 3",
   "language": "python",
   "name": "python3"
  },
  "language_info": {
   "codemirror_mode": {
    "name": "ipython",
    "version": 3
   },
   "file_extension": ".py",
   "mimetype": "text/x-python",
   "name": "python",
   "nbconvert_exporter": "python",
   "pygments_lexer": "ipython3",
   "version": "3.7.6"
  }
 },
 "nbformat": 4,
 "nbformat_minor": 4
}
