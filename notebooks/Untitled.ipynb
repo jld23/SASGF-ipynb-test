{
 "cells": [
  {
   "cell_type": "markdown",
   "metadata": {},
   "source": [
    "# Writing a SAS Global Forum Paper in Jupyter Lab\n",
    "\n",
    "This paper outlines how you can submit your SAS Global forum paper directly from Jupyter lab\n",
    "\n",
    "In the cells below you will see examples of common elements in SAS Global Forum papers\n",
    "\n",
    "This template leverages [Jupyter Book](https://jupyterbook.org/start/overview.html)\n",
    "\n",
    "The [MyST Cheat sheet](https://jupyterbook.org/reference/cheatsheet.html) is here"
   ]
  },
  {
   "cell_type": "markdown",
   "metadata": {},
   "source": [
    "# Setup\n",
    "<script type=\"text/x-mathjax-config\">\n",
    "MathJax.Hub.Config({\n",
    "  TeX: { equationNumbers: { autoNumber: \"AMS\" } }\n",
    "});\n",
    "</script>"
   ]
  },
  {
   "cell_type": "markdown",
   "metadata": {},
   "source": [
    "# This is a heading\n",
    "\n",
    "## this is a subheading\n",
    "\n",
    "This is normal text\n",
    "\n",
    "**This code is in bold**\n",
    "\n",
    "This is *italic* text\n",
    "\n",
    "You can use either underscore `_` or asterisk `*` to augment your text. \n",
    "\n",
    "A single symbol for italics _underscore_ or *asterisk* \n",
    "\n",
    "A double symbol for bold __underscore__ or **asterisk** \n"
   ]
  },
  {
   "cell_type": "markdown",
   "metadata": {},
   "source": [
    "## To create inline runable code, use a code cell\n",
    "\n",
    "To create code that is not runable use the single backtick '`' for code that is less than one line long\n",
    "and triple backtick '```' for blocks of code\n",
    "\n",
    "Here is an example of a single backtick `data _null_`\n",
    "\n",
    "Here is an example of a triple backtick\n",
    "```\n",
    "proc print data=sashelp.class(obs=10)\n",
    "run;\n",
    "```"
   ]
  },
  {
   "cell_type": "markdown",
   "metadata": {},
   "source": [
    "# Math Equations\n",
    "\n",
    "$$\n",
    "a_1 = b_1 + c_1\n",
    "$$ (my_other_label)\n",
    "\n",
    "### Numbered equation\n",
    "\n",
    "```{math}\n",
    ":label: my_label\n",
    "w_{t+1} = (1 + r_{t+1}) s(w_t) + y_{t+1}\n",
    "\n",
    "```\n",
    "\n",
    "To link to those equations you can use code like this:\n",
    "- A link to an equation directive: {eq}`my_label`\n",
    "- A link to a dollar math block: {eq}`my_other_label`\n",
    "\n",
    "\n",
    "In equation \\eqref{eq:sample}, we find the value of an\n",
    "interesting integral:\n",
    "\n",
    "\\begin{equation}\n",
    "  \\int_0^\\infty \\frac{x^3}{e^x-1}\\,dx = \\frac{\\pi^4}{15}\n",
    "  \\label{eq:sample}\n",
    "\\end{equation}"
   ]
  },
  {
   "cell_type": "markdown",
   "metadata": {},
   "source": [
    "# Figures"
   ]
  },
  {
   "cell_type": "markdown",
   "metadata": {},
   "source": [
    "# Tables"
   ]
  },
  {
   "cell_type": "code",
   "execution_count": null,
   "metadata": {},
   "outputs": [],
   "source": []
  },
  {
   "cell_type": "markdown",
   "metadata": {},
   "source": [
    "<img src=\"../images/fun-fish.png\" alt=\"fishy\" class=\"bg-primary\" width=\"200px\">"
   ]
  },
  {
   "cell_type": "markdown",
   "metadata": {},
   "source": [
    "```{note}\n",
    "Here is a note\n",
    "```"
   ]
  },
  {
   "cell_type": "code",
   "execution_count": null,
   "metadata": {},
   "outputs": [],
   "source": []
  }
 ],
 "metadata": {
  "kernelspec": {
   "display_name": "SAS",
   "language": "sas",
   "name": "sas"
  },
  "language_info": {
   "codemirror_mode": "sas",
   "file_extension": ".sas",
   "mimetype": "text/x-sas",
   "name": "sas"
  }
 },
 "nbformat": 4,
 "nbformat_minor": 4
}
