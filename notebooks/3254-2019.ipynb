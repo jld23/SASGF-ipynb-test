{
 "cells": [
  {
   "cell_type": "markdown",
   "metadata": {},
   "source": [
    "```\n",
    "Paper 3254- 2019\n",
    "```\n",
    "## Cool SQL Tricks\n",
    "\n",
    "## Russ Lavery, Contractor\n",
    "\n",
    "# ABSTRACT\n",
    "\n",
    "This paper is a collection of eleven tips and tricks using SAS® PROC SQL. It is intended for an\n",
    "intermediate SAS person who would like to take a peek under the hood. Code for the H.O.W. is included\n",
    "in Appendix A. That code has the same section organization as this paper and an interested person can\n",
    "read this paper while executing the code. That process will provide examples of the concepts developed\n",
    "below and, largely, duplicate an H.O.W. attendance. To increase your chance of attending another SAS\n",
    "Global Forum, you can use this code to provide a lunch-and-learn for your company.\n",
    "\n",
    "Topics covered are: 1) the SAS data engine, 2) indexing, 3) the optimizer, 4) correlated and\n",
    "uncorrelated sub-queries, 5) placement of sub-queries in SQL syntax, 6) views, 7) fuzzy merging, 8)\n",
    "coalescing, 9) finding duplicates using SQL, 10) reflexive joins, 11) Using SQL dictionary tables and a\n",
    "macro to document SAS tables. The eleventh section adds some small tweaks to Vince DelGobbo’s\n",
    "excellent work on how to create a hyperlinked Excel workbook.\n",
    "\n",
    "Appendix A contains all the code for this HOW.\n",
    "Appendix B contains miscellaneous examples of SQL from which a reader can “steal”\n"
   ]
  },
  {
   "cell_type": "code",
   "execution_count": null,
   "metadata": {},
   "outputs": [],
   "source": []
  }
 ],
 "metadata": {
  "kernelspec": {
   "display_name": "SAS",
   "language": "sas",
   "name": "sas"
  },
  "language_info": {
   "codemirror_mode": "sas",
   "file_extension": ".sas",
   "mimetype": "text/x-sas",
   "name": "sas"
  }
 },
 "nbformat": 4,
 "nbformat_minor": 4
}
