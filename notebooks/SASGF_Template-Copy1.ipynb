{
 "cells": [
  {
   "cell_type": "markdown",
   "metadata": {},
   "source": [
    "# Writing a SAS Global Forum Paper in Jupyter Lab\n",
    "\n",
    "This paper outlines how you can submit your SAS Global forum paper directly from Jupyter lab\n",
    "\n",
    "In the cells below you will see examples of common elements in SAS Global Forum papers\n",
    "\n",
    "This template leverages [Jupyter Book](https://jupyterbook.org/start/overview.html)\n",
    "\n",
    "The [MyST Cheat sheet](https://jupyterbook.org/reference/cheatsheet.html) is here\n",
    "\n",
    "For questions post issues to: <<I'm not sure>>\n"
   ]
  },
  {
   "cell_type": "markdown",
   "metadata": {},
   "source": [
    "# Headings\n",
    "\n",
    "# This is a heading (only for title)\n",
    "\n",
    "## this is a subheading (section headings)\n",
    "\n",
    "### this is a heading3\n",
    "\n",
    "This is normal text\n",
    "\n",
    "**This code is in bold**\n",
    "\n",
    "This is *italic* text\n",
    "\n",
    "You can use either underscore `_` or asterisk `*` to augment your text. \n",
    "\n",
    "A single symbol for italics _underscore_ or *asterisk* \n",
    "\n",
    "A double symbol for bold __underscore__ or **asterisk** \n"
   ]
  },
  {
   "cell_type": "markdown",
   "metadata": {},
   "source": [
    "\n",
    "\n"
   ]
  },
  {
   "cell_type": "markdown",
   "metadata": {},
   "source": [
    "# SAS Code\n",
    "\n",
    "The preferred way to represent code is in a code cell.\n",
    "You can modify the cell metadata to present combinations of code, output, or both removed or hidden by default.  This behavior is active in the HTML version of your paper.\n",
    "\n",
    "You can see the cell metadata in the `property inspector`.\n",
    "\n",
    "## To create inline runable code, use a code cell\n",
    "\n",
    "To create code that is not runable use the single backtick '\\`' for code that is less than one line long\n",
    "and triple backtick '\\`\\`\\`' for blocks of code\n",
    "\n",
    "Here is an example of a single backtick `data _null_`\n",
    "\n",
    "Here is an example of a triple backtick (use sas to get SAS syntax coloring in your code block. It only works with code blocks). \n",
    "```sas\n",
    "proc print data=sashelp.class(obs=10)\n",
    "run;\n",
    "```"
   ]
  },
  {
   "cell_type": "code",
   "execution_count": null,
   "metadata": {
    "tags": [
     "remove-cell"
    ]
   },
   "outputs": [],
   "source": [
    "/* This cell should be removed */\n",
    "proc print data=sashelp.class;\n",
    "run;"
   ]
  },
  {
   "cell_type": "code",
   "execution_count": null,
   "metadata": {
    "tags": [
     "remove-output"
    ]
   },
   "outputs": [],
   "source": [
    "/* This output should be removed */\n",
    "proc print data=sashelp.class;\n",
    "run;"
   ]
  },
  {
   "cell_type": "code",
   "execution_count": null,
   "metadata": {
    "tags": [
     "remove-input"
    ]
   },
   "outputs": [],
   "source": [
    "/* This code should be removed */\n",
    "proc print data=sashelp.class;\n",
    "run;"
   ]
  },
  {
   "cell_type": "code",
   "execution_count": null,
   "metadata": {
    "tags": [
     "hide-input"
    ]
   },
   "outputs": [],
   "source": [
    "/* This code should be hidden */\n",
    "proc print data=sashelp.class;\n",
    "run;"
   ]
  },
  {
   "cell_type": "code",
   "execution_count": null,
   "metadata": {
    "tags": [
     "hide-output"
    ]
   },
   "outputs": [],
   "source": [
    "/* This output should be hidden */\n",
    "proc print data=sashelp.class;\n",
    "run;"
   ]
  },
  {
   "cell_type": "code",
   "execution_count": null,
   "metadata": {
    "tags": [
     "hide-cell"
    ]
   },
   "outputs": [],
   "source": [
    "/* This cell should be hidden */\n",
    "proc print data=sashelp.class;\n",
    "run;"
   ]
  },
  {
   "cell_type": "markdown",
   "metadata": {},
   "source": [
    "# Math Equations\n",
    "\n",
    "You can specify your math equations between `$$` and then will be rendered by [MathJax](https://www.mathjax.org). [Here](https://davidhamann.de/2017/06/12/latex-cheat-sheet/) is a good reference and tutorial.\n",
    "\n",
    "$$\n",
    "a_1 = b_1 + c_1\n",
    "$$ \n",
    "\n",
    "$$\n",
    "y = \\beta_0 + \\beta_1 X_1 +\\beta_2 X_2 + \\epsilon\n",
    "$$\n",
    "\n",
    "\\begin{equation}\n",
    "  \\int_0^\\infty \\frac{x^3}{e^x-1}\\,dx = \\frac{\\pi^4}{15}\n",
    "  \\label{eq:sample}\n",
    "\\end{equation}"
   ]
  },
  {
   "cell_type": "raw",
   "metadata": {},
   "source": [
    "### Numbered equation\n",
    "\n",
    "```{math}\n",
    ":label: my_label\n",
    "w_{t+1} = (1 + r_{t+1}) s(w_t) + y_{t+1}\n",
    "\n",
    "```\n",
    "\n",
    "To link to those equations you can use code like this:\n",
    "- A link to an equation directive: {eq}`my_label`\n",
    "- A link to a dollar math block: {eq}`my_other_label`\n",
    "\n",
    "\n",
    "In equation \\eqref{eq:sample}, we find the value of an\n",
    "interesting integral:"
   ]
  },
  {
   "cell_type": "raw",
   "metadata": {},
   "source": [
    "[A **_reference_** to a page](./myst.md)\n",
    "\n"
   ]
  },
  {
   "cell_type": "markdown",
   "metadata": {},
   "source": [
    "# Images\n",
    "\n",
    "* Include an image via URL\n",
    "![SAS Toronto Campus](https://upload.wikimedia.org/wikipedia/commons/d/dd/SASToronto2.JPG)\n",
    "\n",
    "\n",
    "* Include an image via local file\n",
    "\n",
    "![SAS Cary Campus](../images/sas-campus.jpg)\n",
    "\n",
    "* Format an image\n",
    "\n",
    "```{image} ../images/sas-campus.jpg\n",
    ":alt: SAS Cary Campus\n",
    ":class: bg-primary\n",
    ":width: 200px\n",
    ":align: center\n",
    "```\n"
   ]
  },
  {
   "cell_type": "markdown",
   "metadata": {},
   "source": [
    "# Figures"
   ]
  },
  {
   "cell_type": "markdown",
   "metadata": {},
   "source": [
    "# Tables\n",
    "\n",
    "[Tables reference](https://www.markdownguide.org/extended-syntax/#tables)\n",
    "\n",
    "| Syntax      | Description | Test Text     |\n",
    "| :---        |    :----:   |          ---: |\n",
    "| Header      | Title       | Here's this   |\n",
    "| Paragraph   | Text        | And more      |"
   ]
  },
  {
   "cell_type": "raw",
   "metadata": {},
   "source": [
    "This adds a linked superscript {% fn 15 %}\n",
    "\n",
    "{{ \"This is the actual footnote\" | fndetail: 15 }}"
   ]
  },
  {
   "cell_type": "markdown",
   "metadata": {},
   "source": [
    "<center><img src=\"https://thepinnaclesolutions.com/wp-content/uploads/2020/02/email.banner-sasgf2020.png\" alt=\"SAS Global Forum 2020\" /></center>"
   ]
  },
  {
   "cell_type": "markdown",
   "metadata": {},
   "source": [
    "# Footnotes\n",
    "\n",
    "This is a very important finding"
   ]
  },
  {
   "cell_type": "markdown",
   "metadata": {},
   "source": [
    "This is a example of footnote and tooltip[<sup>1</sup>](#fn1 \"footnote and tooltip 1\").\n",
    "Another footnote[<sup>2</sup>](#fn2).\n",
    "Another tooltip[<sup>3</sup>](#_blank \"tooltip 3\").\n",
    "\n",
    "<span id=\"fn1\">footnote and tooltip 1</span>\n",
    "<span id=\"fn2\">footnote 2</span>"
   ]
  },
  {
   "cell_type": "markdown",
   "metadata": {},
   "source": [
    "```{note}\n",
    "Here is a note\n",
    "```"
   ]
  },
  {
   "cell_type": "markdown",
   "metadata": {},
   "source": [
    "# This cell and All cells above should be removed before publication!!!"
   ]
  },
  {
   "cell_type": "markdown",
   "metadata": {},
   "source": [
    "<center>\n",
    "<small>Paper ####-2020</small><br />\n",
    "<h1>My Great Paper Title</h1><br />\n",
    "Jane Doe, Anywhere USA\n",
    "</center>"
   ]
  },
  {
   "cell_type": "markdown",
   "metadata": {},
   "source": [
    "## ABSTRACT\n",
    "\n",
    "Lorem Ipsum is simply dummy text of the printing and typesetting industry. Lorem Ipsum has been the industry's standard dummy text ever since the 1500s, when an unknown printer took a galley of type and scrambled it to make a type specimen book. It has survived not only five centuries, but also the leap into electronic typesetting, remaining essentially unchanged. It was popularised in the 1960s with the release of Letraset sheets containing Lorem Ipsum passages, and more recently with desktop publishing software like Aldus PageMaker including versions of Lorem Ipsum"
   ]
  },
  {
   "cell_type": "markdown",
   "metadata": {},
   "source": [
    "## INTRODUCTION\n",
    "\n",
    "Contrary to popular belief, Lorem Ipsum is not simply random text. It has roots in a piece of classical Latin literature from 45 BC, making it over 2000 years old. Richard McClintock, a Latin professor at Hampden-Sydney College in Virginia, looked up one of the more obscure Latin words, consectetur, from a Lorem Ipsum passage, and going through the cites of the word in classical literature, discovered the undoubtable source. Lorem Ipsum comes from sections 1.10.32 and 1.10.33 of \"de Finibus Bonorum et Malorum\" (The Extremes of Good and Evil) by Cicero, written in 45 BC. This book is a treatise on the theory of ethics, very popular during the Renaissance. The first line of Lorem Ipsum, \"Lorem ipsum dolor sit amet..\", comes from a line in section 1.10.32."
   ]
  },
  {
   "cell_type": "code",
   "execution_count": null,
   "metadata": {},
   "outputs": [],
   "source": []
  },
  {
   "cell_type": "markdown",
   "metadata": {},
   "source": [
    "## CONCLUSION"
   ]
  },
  {
   "cell_type": "code",
   "execution_count": null,
   "metadata": {},
   "outputs": [],
   "source": []
  },
  {
   "cell_type": "code",
   "execution_count": null,
   "metadata": {},
   "outputs": [],
   "source": []
  },
  {
   "cell_type": "raw",
   "metadata": {},
   "source": [
    "## References\n",
    "\n",
    "[A Sample reference](content:tables)"
   ]
  },
  {
   "cell_type": "markdown",
   "metadata": {},
   "source": [
    "## Recommended Reading"
   ]
  },
  {
   "cell_type": "markdown",
   "metadata": {},
   "source": [
    "## Acknowledgments"
   ]
  },
  {
   "cell_type": "markdown",
   "metadata": {},
   "source": [
    "## CONTACT INFORMATION\n",
    "\n",
    "Your comments and questions are valued and encouraged. Contact the author at:\n",
    "\n",
    "```\n",
    "Jane Doe\n",
    "Professor\n",
    "Department of Statistics\n",
    "Anywhere, NC\n",
    "Jane.Doe@sas.com\n",
    "```\n",
    "\n",
    "SAS and all other SAS Institute Inc. product or service names are registered trademarks or trademarks of SAS Institute Inc. in the USA and other countries. ® indicates USA registration.\n",
    "\n",
    "Other brand and product names are trademarks of their respective companies."
   ]
  },
  {
   "cell_type": "code",
   "execution_count": null,
   "metadata": {},
   "outputs": [],
   "source": []
  }
 ],
 "metadata": {
  "kernelspec": {
   "display_name": "SAS",
   "language": "sas",
   "name": "sas"
  },
  "language_info": {
   "codemirror_mode": "sas",
   "file_extension": ".sas",
   "mimetype": "text/x-sas",
   "name": "sas"
  }
 },
 "nbformat": 4,
 "nbformat_minor": 4
}
